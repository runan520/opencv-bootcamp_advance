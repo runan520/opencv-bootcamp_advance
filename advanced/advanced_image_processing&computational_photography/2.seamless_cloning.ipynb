{
 "cells": [
  {
   "cell_type": "markdown",
   "metadata": {},
   "source": [
    "## Seamless Cloning\n",
    "One of the exciting new features introduced in OpenCV 3 is called Seamless Cloning. With this new feature you can copy an object from one image, and paste it into another image making a composition that looks seamless and natural."
   ]
  },
  {
   "cell_type": "markdown",
   "metadata": {},
   "source": [
    "## Normal Cloning ( NORMAL_CLONE )"
   ]
  },
  {
   "cell_type": "code",
   "execution_count": 28,
   "metadata": {},
   "outputs": [],
   "source": [
    "import cv2\n",
    "import numpy as np \n",
    "import matplotlib.pyplot as plt"
   ]
  },
  {
   "cell_type": "code",
   "execution_count": 29,
   "metadata": {},
   "outputs": [],
   "source": [
    "src = cv2.imread(\"images/ilove.jpg\")\n",
    "dst = cv2.imread(\"images/background.jpg\")\n"
   ]
  },
  {
   "cell_type": "code",
   "execution_count": 30,
   "metadata": {},
   "outputs": [],
   "source": [
    "# Ensure the source image is smaller than or equal to the destination image\n",
    "if src.shape[0] > dst.shape[0] or src.shape[1] > dst.shape[1]:\n",
    "    print(\"Source image is larger than the destination image. Please resize the source image.\")\n",
    "else:\n",
    "    # Create an all-white mask\n",
    "    mask = 255 * np.ones(src.shape, src.dtype)\n",
    "\n",
    "    # Set the center coordinates within the destination bounds\n",
    "    width, height, _ = dst.shape\n",
    "    center = (int(height / 2), int(width / 2))\n",
    "\n",
    "    # Perform seamless cloning with NORMAL_CLONE and MIXED_CLONE modes\n",
    "    normal_clone = cv2.seamlessClone(src, dst, mask, center, cv2.NORMAL_CLONE)\n",
    "    mixed_clone = cv2.seamlessClone(src, dst, mask, center, cv2.MIXED_CLONE)\n",
    "\n",
    "    cv2.imwrite(\"./images/output_normal_clone.jpg\", normal_clone)\n",
    "    cv2.imwrite(\"./images/output_mixed_clone.jpg\", mixed_clone)"
   ]
  },
  {
   "cell_type": "code",
   "execution_count": 36,
   "metadata": {},
   "outputs": [],
   "source": [
    "src = cv2.imread(\"images/plane.jpg\")\n",
    "dst = cv2.imread(\"images/scene.jpg\")\n"
   ]
  },
  {
   "cell_type": "code",
   "execution_count": 37,
   "metadata": {},
   "outputs": [],
   "source": [
    "# Ensure the source image is smaller than or equal to the destination image\n",
    "if src.shape[0] > dst.shape[0] or src.shape[1] > dst.shape[1]:\n",
    "    print(\"Source image is larger than the destination image. Please resize the source image.\")\n",
    "else:\n",
    "    # Create an all-black mask\n",
    "    mask = 255 * np.ones(src.shape, src.dtype)\n",
    "\n",
    "    # Set the center coordinates within the destination bounds\n",
    "    width, height, _ = dst.shape\n",
    "    center = (int(height / 2), int(width / 2))\n",
    "\n",
    "    # Perform seamless cloning with NORMAL_CLONE and MIXED_CLONE modes\n",
    "    normal_clone = cv2.seamlessClone(src, dst, mask, center, cv2.NORMAL_CLONE)\n",
    "    mixed_clone = cv2.seamlessClone(src, dst, mask, center, cv2.MIXED_CLONE)\n",
    "\n",
    "    cv2.imwrite(\"./images/output_normal_clone.jpg\", normal_clone)\n",
    "    cv2.imwrite(\"./images/output_mixed_clone.jpg\", mixed_clone)"
   ]
  },
  {
   "cell_type": "code",
   "execution_count": null,
   "metadata": {},
   "outputs": [],
   "source": []
  }
 ],
 "metadata": {
  "kernelspec": {
   "display_name": "base",
   "language": "python",
   "name": "python3"
  },
  "language_info": {
   "codemirror_mode": {
    "name": "ipython",
    "version": 3
   },
   "file_extension": ".py",
   "mimetype": "text/x-python",
   "name": "python",
   "nbconvert_exporter": "python",
   "pygments_lexer": "ipython3",
   "version": "3.11.7"
  }
 },
 "nbformat": 4,
 "nbformat_minor": 2
}
